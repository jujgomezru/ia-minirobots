{
 "cells": [
  {
   "cell_type": "markdown",
   "id": "77c40303",
   "metadata": {
    "id": "77c40303",
    "vscode": {
     "languageId": "latex"
    }
   },
   "source": [
    "# Universidad Nacional de Colombia  \n",
    "## Sede Bogotá  \n",
    "### Facultad de Ingeniería\n",
    "### Departamento de Ingeniería de Sistemas e Industrial\n",
    "\n",
    "---\n",
    "\n",
    "## **Inteligencia Artificial y Mini-robots**\n",
    "\n",
    "**Título del Taller:**  \n",
    "*Panorama de la IA*\n",
    "\n",
    "**Autor:**  \n",
    "*Juan Jeronimo Gómez Rubiano*  \n",
    "\n",
    "**Periodo:**  \n",
    "*2025-2*\n",
    "\n",
    "**Fecha de entrega:**  \n",
    "*Septiembre 09/2025*\n",
    "\n",
    "---\n",
    "\n",
    "*El source code junto a este documento es encuentran disponible en el siguiente repositorio público de github: https://github.com/jujgomezru/ia-minirobots*\n"
   ]
  },
  {
   "cell_type": "markdown",
   "id": "ca53ca53",
   "metadata": {
    "id": "ca53ca53"
   },
   "source": [
    "## Ejercicio 1"
   ]
  },
  {
   "cell_type": "markdown",
   "id": "06cfcc9c",
   "metadata": {
    "id": "06cfcc9c",
    "vscode": {
     "languageId": "latex"
    }
   },
   "source": [
    "### Pídale a varios LLMs de IAGen una definición de IA, compárelas con lo visto en el capitulo."
   ]
  },
  {
   "cell_type": "markdown",
   "id": "9097e367-af01-4c0e-90ff-8958d665cb23",
   "metadata": {},
   "source": [
    "# ChatGPT - Respuesta\n",
    "\n",
    "---\n",
    "\n",
    "# ¿Qué es la **Inteligencia Artificial (IA)**?\n",
    "\n",
    "**Inteligencia Artificial** es el campo de la informática que crea sistemas capaces de realizar tareas que normalmente requieren inteligencia humana: razonar, aprender, percibir, planear y tomar decisiones. En vez de limitarse a ejecutar instrucciones fijas, los sistemas de IA procesan datos, reconocen patrones y adaptan su comportamiento según la experiencia o reglas complejas.\n",
    "\n",
    "## Formas prácticas de entenderla\n",
    "\n",
    "* **Definición corta:** Programas o máquinas que muestran comportamientos inteligentes (aprenden, resuelven problemas, interpretan señales).\n",
    "* **Ejemplo sencillo:** Un asistente que entiende tu voz y responde; un filtro que recomienda música según lo que escuchas.\n",
    "\n",
    "## Tipos (útiles para clasificar)\n",
    "\n",
    "* **IA débil / estrecha (narrow AI):** Diseñada para una tarea específica (reconocimiento de voz, traducción, recomendaciones). Es lo más común hoy.\n",
    "* **IA general (AGI):** Hipotética; tendría capacidades intelectuales amplias y flexibles similares a las humanas.\n",
    "* **IA superinteligente:** Concepto teórico de inteligencia que supera la humana en todas las áreas.\n",
    "\n",
    "## Principales enfoques y técnicas\n",
    "\n",
    "* **Aprendizaje automático (Machine Learning):** Modelos que aprenden de datos (ej.: regresión, árboles, SVM).\n",
    "* **Aprendizaje profundo (Deep Learning):** Redes neuronales profundas que sobresalen en visión, audio y lenguaje.\n",
    "* **IA simbólica / basada en reglas:** Manipulación de símbolos y lógica (buenas para razonamiento explícito).\n",
    "* **Sistemas híbridos:** Combinan métodos estadísticos y simbólicos.\n",
    "\n",
    "## Cómo se mide (breve)\n",
    "\n",
    "* Rendimiento en tareas concretas: precisión, recall, exactitud, F1, tasa de error, etc.\n",
    "* Evaluación empírica en datos de prueba y pruebas controladas.\n",
    "\n",
    "## Aplicaciones comunes\n",
    "\n",
    "* Visión por computador (detección de objetos, diagnóstico médico por imágenes).\n",
    "* Procesamiento de lenguaje natural (traducción automática, chatbots).\n",
    "* Sistemas de recomendación (películas, productos).\n",
    "* Robótica y control (drones, vehículos autónomos).\n",
    "* Optimización y predicción (finanzas, mantenimiento predictivo).\n",
    "\n",
    "## Limitaciones y riesgos\n",
    "\n",
    "* **Sesgo:** los modelos reproducen sesgos presentes en los datos.\n",
    "* **Explicabilidad:** muchos modelos, especialmente deep learning, son cajas negras.\n",
    "* **Dependencia de datos:** se necesita mucha y buena información.\n",
    "* **Impacto social:** empleo, privacidad, seguridad y toma de decisiones automatizada.\n",
    "* **Seguridad:** modelos pueden ser engañados (ataques adversariales).\n",
    "\n",
    "## Consideración ética y regulatoria\n",
    "\n",
    "La IA plantea cuestiones sobre responsabilidad, transparencia, protección de datos y equidad; por eso hay creciente interés en gobernanza, auditoría y diseño responsable.\n",
    "\n",
    "---\n",
    "\n",
    "En una frase: la IA son métodos y sistemas que permiten a las máquinas **aprender, razonar y actuar de forma inteligente** para resolver problemas que antes requerían exclusivamente intervención humana. ¿Quieres que lo explique con un ejemplo concreto (p. ej. cómo funciona un modelo de recomendación o un clasificador de imágenes)?\n",
    "\n",
    "# Comparación\n",
    "Esta definición menciona \"**aprender, razonar y actuar de forma inteligente**\", pero parece asociar el comportamiento inteligente al comportamiento humano, mientras que el texto base incluye el pensamiento **racional**, más no necesariamente humano en la definición de Inteligencia Artificial Simbólica. Incluye el concepto de IA Superinteligente, la cual no es abordada en el texto. Ambas definiciones incluyen el enfoque de datos y el enfoque de agentes, ya que ChatGPT reconoce que los agentes inteligentes adaptan su comportamiento según sus reglas y experiencias.\n",
    "\n",
    "La definición de ChatGPT menciona brevemente los métodos de medición, limitaciones, sesgos y consideraciones éticas y regulatorias. El texto base no aborda en estos aspectos, y en cambio busca incluir la definición de Sistema, así como los distintos tipos de sistemas y su modelo matemático generalizado."
   ]
  },
  {
   "cell_type": "markdown",
   "id": "31ac2b6e-7b3d-4882-9913-f13dfd50000c",
   "metadata": {},
   "source": [
    "# Deepseek - Respuesta\n",
    "\n",
    "---\n",
    "\n",
    "¡Claro! Aquí tienes una definición completa y detallada de la Inteligencia Artificial.\n",
    "\n",
    "### Definición de Inteligencia Artificial (IA)\n",
    "\n",
    "La **Inteligencia Artificial (IA)** es una disciplina científica y un campo de la informática que se dedica a crear sistemas, software y máquinas capaces de realizar tareas que normalmente requieren de la inteligencia humana.\n",
    "\n",
    "Estas tareas incluyen:\n",
    "*   **Aprender** (adquirir información y reglas para usarla).\n",
    "*   **Razonar** (aplicar reglas para llegar a conclusiones aproximadas o definitivas).\n",
    "*   **Autocorregirse** (perfeccionar los algoritmos para obtener resultados más precisos).\n",
    "*   **Percepción** (reconocer imágenes, sonidos, texto, etc.).\n",
    "*   **Comprensión del lenguaje natural** (entender y comunicarse en lenguaje humano).\n",
    "*   **Resolución de problemas** y **toma de decisiones**.\n",
    "\n",
    "En esencia, la IA busca **imitar** o **emular** las capacidades cognitivas del ser humano en una máquina.\n",
    "\n",
    "---\n",
    "\n",
    "### Aspectos Clave para Entender la IA\n",
    "\n",
    "#### 1. No es una Inteligencia \"Humana\"\n",
    "Aunque la idea popular (impulsada por la ciencia ficción) es que la IA son robots con conciencia propia, la realidad es más práctica. La mayoría de la IA actual es **\"Estrecha\" o \"Débil\" (Narrow AI)**. Está diseñada para realizar una tarea específica de manera extremadamente eficiente (como recomendar un video, detectar fraudes o reconocer un rostro), pero carece de conciencia, autoconciencia o entendimiento general.\n",
    "\n",
    "#### 2. Se basa en Datos y Algoritmos\n",
    "El combustible de la IA moderna son los **datos (Big Data)**. Los sistemas de IA se \"alimentan\" de grandes volúmenes de información para identificar patrones y aprender de ellos. Los **algoritmos** son el conjunto de reglas y procedimientos paso a paso que la máquina sigue para procesar esos datos y llegar a un resultado.\n",
    "\n",
    "#### 3. Subcampos Principales\n",
    "La IA no es una sola cosa, sino un paraguas que cubre varias áreas especializadas:\n",
    "*   **Aprendizaje Automático (Machine Learning):** Es el corazón de la IA moderna. Permite a los sistemas aprender y mejorar automáticamente a partir de la experiencia (datos) sin ser programados explícitamente para cada tarea.\n",
    "*   **Aprendizaje Profundo (Deep Learning):** Una rama más avanzada del Machine Learning que utiliza redes neuronales artificiales con muchas capas (de ahí lo \"profundo\"). Es excelente para tareas complejas como el reconocimiento de voz e imágenes.\n",
    "*   **Procesamiento del Lenguaje Natural (NLP):** Permite a las máquinas entender, interpretar y generar lenguaje humano. Es la tecnología detrás de los chatbots y traductores automáticos.\n",
    "*   **Visión por Computadora (Computer Vision):** Hace que las máquinas puedan \"ver\" e interpretar información visual del mundo real, como en los sistemas de reconocimiento facial o los coches autónomos.\n",
    "*   **Robótica:** Combina la IA con máquinas físicas (robots) para realizar tareas en el mundo real, desde ensamblar un coche hasta realizar cirugías de precisión.\n",
    "\n",
    "---\n",
    "\n",
    "### Tipos de IA (Según sus Capacidades)\n",
    "\n",
    "Los expertos suelen clasificar la IA en tres categorías:\n",
    "\n",
    "1.  **IA Estrecha (ANI - Artificial Narrow Intelligence):** La única que existe hoy. Es inteligente en una tarea muy específica. Ejemplos: Siri, AlphaGo (de Google), los algoritmos de Netflix.\n",
    "2.  **IA General (AGI - Artificial General Intelligence):** También llamada \"IA Fuerte\". Sería una inteligencia con la capacidad de entender, aprender y aplicar sus conocimientos en cualquier ámbito, igual que un ser humano. **Todavía no existe** y es un objetivo a largo plazo.\n",
    "3.  **Súperinteligencia Artificial (ASI - Artificial Superintelligence):** Un hipotético tipo de IA que superaría ampliamente la capacidad cognitiva humana en todos los aspectos,包括 la creatividad, la sabiduría general y la resolución de problemas. Este es un concepto puramente teórico y especulativo.\n",
    "\n",
    "---\n",
    "\n",
    "### Aplicaciones en la Vida Cotidiana\n",
    "La IA ya está integrada en nuestro día a día:\n",
    "*   **Asistentes virtuales:** Siri, Alexa, Google Assistant.\n",
    "*   **Recomendaciones:** Netflix, Spotify, Amazon.\n",
    "*   **Traducción automática:** Google Translate.\n",
    "*   **Redes sociales:** Los feeds de Instagram y Facebook, los filtros de TikTok.\n",
    "*   **Navegación:** Google Maps y Waze optimizan las rutas en tiempo real.\n",
    "*   **Salud:** Diagnóstico de enfermedades mediante análisis de imágenes médicas.\n",
    "\n",
    "---\n",
    "\n",
    "### Consideraciones Éticas\n",
    "El rápido avance de la IA genera importantes debates sobre:\n",
    "*   **Sesgo y discriminación:** Si los datos de entrenamiento son sesgados, la IA tomará decisiones sesgadas.\n",
    "*   **Privacidad:** La recolección masiva de datos necesaria para la IA.\n",
    "*   **Impacto laboral:** La automatización de trabajos tradicionales.\n",
    "*   **Control y seguridad:** Cómo asegurar que estos sistemas potentes se usen para el bien.\n",
    "\n",
    "### En Resumen:\n",
    "\n",
    "La **Inteligencia Artificial** es un campo de la informática que busca desarrollar **sistemas capaces de realizar tareas complejas** de forma autónoma, **aprendiendo de los datos** y **mejorando con la experiencia**, con el fin de augmentar las capacidades humanas y automatizar procesos.\n",
    "\n",
    "# Comparación"
   ]
  },
  {
   "cell_type": "markdown",
   "id": "7fa4668c-04ab-4748-8b1c-0ae848993320",
   "metadata": {},
   "source": [
    "# Gemini - Respuesta\n",
    "\n",
    "\n",
    "## La Inteligencia Artificial: Una Réplica de la Cognición Humana\n",
    "\n",
    "La **Inteligencia Artificial (IA)** es un vasto y transformador campo de la informática dedicado a la creación de sistemas y máquinas capaces de realizar tareas que, tradicionalmente, han requerido de la inteligencia humana. Esto abarca desde el aprendizaje y el razonamiento hasta la resolución de problemas, la percepción del entorno y la comprensión del lenguaje. En esencia, la IA busca emular las funciones cognitivas para que las máquinas puedan \"pensar\" y actuar de manera autónoma.\n",
    "\n",
    "El núcleo de la inteligencia artificial reside en algoritmos y modelos matemáticos complejos que, alimentados por grandes volúmulas de datos, permiten a los sistemas identificar patrones, tomar decisiones y mejorar su propio rendimiento con el tiempo. Dos conceptos fundamentales dentro de la IA son el **aprendizaje automático (machine learning)** y el **aprendizaje profundo (deep learning)**, que posibilitan que las máquinas aprendan de la experiencia sin ser explícitamente programadas para cada tarea.\n",
    "\n",
    "---\n",
    "\n",
    "### Tipos de Inteligencia Artificial\n",
    "\n",
    "La inteligencia artificial se puede clasificar principalmente en dos grandes categorías, basadas en sus capacidades y su funcionalidad:\n",
    "\n",
    "**Según su Capacidad:**\n",
    "\n",
    "* **IA Débil o Estrecha (ANI - Artificial Narrow Intelligence):** Este es el tipo de inteligencia artificial que predomina en la actualidad. Se especializa en una tarea específica y opera dentro de un rango limitado de funciones. Aunque puede superar a los humanos en esa tarea concreta, carece de conciencia o de una comprensión genuina.\n",
    "    * **Ejemplos:** Asistentes de voz como Siri y Alexa, sistemas de recomendación de Netflix y Spotify, software de reconocimiento facial y los motores de búsqueda como Google.\n",
    "\n",
    "* **IA Fuerte o General (AGI - Artificial General Intelligence):** Esta es la inteligencia artificial que a menudo se retrata en la ciencia ficción. Poseería la capacidad de comprender, aprender y aplicar su inteligencia para resolver cualquier problema, de manera similar a un ser humano. La AGI aún es un concepto teórico y no se ha logrado su pleno desarrollo.\n",
    "\n",
    "* **Superinteligencia Artificial (ASI - Artificial Superintelligence):** Este nivel, también teórico, se refiere a una inteligencia que superaría con creces la inteligencia humana en prácticamente todos los campos, incluyendo la creatividad, la sabiduría y la resolución de problemas a gran escala.\n",
    "\n",
    "**Según su Funcionalidad:**\n",
    "\n",
    "* **Máquinas Reactivas:** El tipo más básico de IA. No tienen la capacidad de formar recuerdos ni de utilizar experiencias pasadas para informar sus decisiones actuales. Operan basándose únicamente en la información presente.\n",
    "    * **Ejemplo:** Deep Blue, la supercomputadora de IBM que venció al campeón de ajedrez Garry Kasparov en 1997.\n",
    "\n",
    "* **Memoria Limitada:** Estas máquinas pueden mirar hacia el pasado para informar sus decisiones futuras, aunque esta \"memoria\" es temporal. La mayoría de las aplicaciones de IA que utilizamos hoy en día entran en esta categoría.\n",
    "    * **Ejemplo:** Los vehículos autónomos que observan la velocidad y la dirección de otros coches para tomar decisiones de conducción.\n",
    "\n",
    "* **Teoría de la Mente:** Un tipo de IA más avanzado y aún en desarrollo que sería capaz de comprender emociones, creencias, intenciones y pensamientos, tanto en sí misma como en los demás, lo que le permitiría una interacción social más sofisticada.\n",
    "\n",
    "* **Autoconciencia:** La cúspide de la inteligencia artificial, donde las máquinas tendrían una conciencia de sí mismas, con sus propios deseos y emociones. Este sigue siendo un objetivo lejano y puramente conceptual.\n",
    "\n",
    "---\n",
    "\n",
    "### Aplicaciones en la Vida Cotidiana\n",
    "\n",
    "\n",
    "\n",
    "La inteligencia artificial ya está profundamente integrada en nuestro día a día, a menudo de formas que no percibimos directamente. Algunas de las aplicaciones más comunes incluyen:\n",
    "\n",
    "* **Asistentes Virtuales:** Siri, Alexa y el Asistente de Google utilizan el procesamiento del lenguaje natural para entender y responder a nuestras preguntas y comandos.\n",
    "* **Sistemas de Recomendación:** Plataformas como Netflix, Amazon y Spotify analizan nuestro comportamiento para sugerirnos películas, productos y música que podrían gustarnos.\n",
    "* **Navegación y Tráfico:** Aplicaciones como Google Maps y Waze utilizan la IA para analizar en tiempo real las condiciones del tráfico y encontrar la ruta más rápida.\n",
    "* **Redes Sociales:** Algoritmos de IA personalizan nuestros feeds de noticias, moderan contenido y sugieren conexiones.\n",
    "* **Finanzas:** La IA se utiliza para detectar transacciones fraudulentas, evaluar riesgos crediticios y automatizar el comercio de acciones.\n",
    "* **Salud:** Desde el análisis de imágenes médicas para detectar enfermedades hasta el descubrimiento de nuevos fármacos, la IA está revolucionando el sector sanitario.\n",
    "* **Transporte:** El desarrollo de vehículos autónomos es uno de los campos más visibles de la aplicación de la inteligencia artificial.\n",
    "* **Ciberseguridad:** Los sistemas de IA ayudan a identificar y neutralizar amenazas informáticas de manera proactiva.\n",
    "\n",
    "# Comparación\n",
    "\n"
   ]
  },
  {
   "cell_type": "markdown",
   "id": "18f9b1c6-f00c-4163-92c9-153f157fbcad",
   "metadata": {},
   "source": [
    "# Claude - Respuesta\n",
    "\n",
    "La **Inteligencia Artificial (IA)** es un campo de la informática que se enfoca en crear sistemas y máquinas capaces de realizar tareas que típicamente requieren inteligencia humana. Estos sistemas pueden aprender, razonar, percibir, resolver problemas y tomar decisiones de manera autónoma o semi-autónoma.\n",
    "\n",
    "## Características principales\n",
    "\n",
    "La IA abarca diversas capacidades que incluyen el procesamiento del lenguaje natural (como esta conversación), el reconocimiento de patrones e imágenes, el aprendizaje automático que permite mejorar el desempeño con la experiencia, y la capacidad de adaptarse a nuevas situaciones sin ser explícitamente programada para cada escenario.\n",
    "\n",
    "## Tipos de IA\n",
    "\n",
    "Actualmente, toda la IA existente es \"estrecha\" o especializada, diseñada para tareas específicas como traducir idiomas, conducir vehículos, jugar ajedrez o diagnosticar enfermedades. La IA general, que igualaría la inteligencia humana en todos los aspectos, permanece como un objetivo teórico no alcanzado.\n",
    "\n",
    "## Aplicaciones actuales\n",
    "\n",
    "La IA está presente en múltiples aspectos de la vida moderna: asistentes virtuales, sistemas de recomendación en plataformas de streaming, diagnóstico médico asistido, vehículos autónomos, traducción automática, y análisis predictivo en negocios y ciencias.\n",
    "\n",
    "## Fundamentos técnicos\n",
    "\n",
    "La IA moderna se basa principalmente en redes neuronales artificiales, algoritmos de aprendizaje profundo, y grandes cantidades de datos para entrenar modelos. Estos sistemas identifican patrones complejos y generan respuestas o predicciones basadas en ese aprendizaje, aunque su funcionamiento difiere fundamentalmente de la cognición biológica.\n",
    "\n",
    "# Comparación"
   ]
  },
  {
   "cell_type": "markdown",
   "id": "172738d8-b6e3-4708-a9e0-a6702f9d7564",
   "metadata": {},
   "source": [
    "## Ejercicio 2"
   ]
  },
  {
   "cell_type": "markdown",
   "id": "931474e5-172b-42bc-bb9b-8166a76ada92",
   "metadata": {},
   "source": [
    "### Dé una definición propia de inteligencia artificial."
   ]
  },
  {
   "cell_type": "markdown",
   "id": "3119ddbc-78b3-499f-b441-c8cbebaa7936",
   "metadata": {},
   "source": [
    "## Ejercicio 3"
   ]
  },
  {
   "cell_type": "markdown",
   "id": "d62d50f8-95cb-482c-9fe0-b5b3da89e743",
   "metadata": {},
   "source": [
    "### Vea el video que se encuentra en https://www.youtube.com/watch?v=JsmKUCiPHUY&t=7s. Haga un análisis de lo discutido en el documento con respecto al video."
   ]
  },
  {
   "cell_type": "markdown",
   "id": "883e03fc-f8b7-4758-9531-7002d42e5d28",
   "metadata": {},
   "source": [
    "En el vídeo se discuten dos proyectos tecnológicos emergentes relacionados con los robots y la Inteligencia Artificial. El primero son los xenobots, un tipo de robots biológicos, creados a partir de embriones de una especie de rana (**Xenopus laevis**). El segundo son robots con caras humanas, copiadas de personas vivas.\n",
    "\n",
    "Los xenobots se construyen a partir de tejido embrionario, tanto piel como tejido cardiaco, se diseñan configuraciones aleatorias de los distintos tipos de células (los cuales recuerdan a los autómatas celulares), y se siembran en moldes tridimensionales, sobre los cuales comienzan a crecer e interactuar con el ambiente. Los xenobots pueden moldearse, programarse, y reproducirse entre ellos. También se discute el hecho de que estos xenobots pueden evaluarse de acuerdo al rendimiento de una tarea deseada, y realizar un proceso de selección genética para perfeccionar los comportamientos deseados de los xenobots. Se ha sugerido el uso de estos xenobots para aplicaciones en Medicina e Ingeniería. Por ejemplo, en Medicina se considera el potencial de usarlos para terapias contra el cáncer, ya que estos xenobots podrían entrenarse para detectar y atacar células cancerígenas de manera individual, ofreciendo una alternativa terapéutica contra métodos modernos más generalizados, como la quimioterapia o la radioterapia.\n",
    "\n",
    "Respecto a los robots con caras humanas, presentan un tipo de cyborgs con caras ultra-realistas, que permitan no sólo parecer humanos, sino que puedan parecer un humano real. No se abunda mucho sobre qué tan avanzados son estos robots en términos de programación y entrenamiento. Pero se observa"
   ]
  },
  {
   "cell_type": "markdown",
   "id": "12f78211-3cb3-45a0-a292-65f094eddbaf",
   "metadata": {},
   "source": [
    "## Ejercicio 4"
   ]
  },
  {
   "cell_type": "markdown",
   "id": "142d19d2-87ac-435a-a1e5-062d68376cf6",
   "metadata": {},
   "source": [
    "### Investigue sobre los planes del gobierno con respecto a la IA."
   ]
  },
  {
   "cell_type": "markdown",
   "id": "bdc6693a-77b7-4845-a457-35ac65f62145",
   "metadata": {},
   "source": [
    "## Comité de Expertos en Inteligencia Artificial\n",
    "\n",
    "## Red de Universidaes de IA\n",
    "\n",
    "## CONPES 4144\n",
    "\n",
    "## Proyecto de Ley sobre Inteligencia Artificial\n",
    "\n",
    "## Proyecciones"
   ]
  },
  {
   "cell_type": "code",
   "execution_count": null,
   "id": "0b4baea4-bc91-4220-9f3a-c43dbca493ae",
   "metadata": {},
   "outputs": [],
   "source": []
  }
 ],
 "metadata": {
  "colab": {
   "provenance": []
  },
  "kernelspec": {
   "display_name": "Python 3 (ipykernel)",
   "language": "python",
   "name": "python3"
  },
  "language_info": {
   "codemirror_mode": {
    "name": "ipython",
    "version": 3
   },
   "file_extension": ".py",
   "mimetype": "text/x-python",
   "name": "python",
   "nbconvert_exporter": "python",
   "pygments_lexer": "ipython3",
   "version": "3.13.7"
  }
 },
 "nbformat": 4,
 "nbformat_minor": 5
}
